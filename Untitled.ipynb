{
 "cells": [
  {
   "cell_type": "markdown",
   "id": "0c457947-af69-4c19-86c9-6cb100ed6b19",
   "metadata": {},
   "source": [
    "# Ejercicio 2"
   ]
  },
  {
   "cell_type": "code",
   "execution_count": 1,
   "id": "75578640-16c6-4172-aa29-a9f891eb9060",
   "metadata": {},
   "outputs": [],
   "source": [
    "from bs4 import BeautifulSoup\n",
    "import requests"
   ]
  },
  {
   "cell_type": "code",
   "execution_count": 2,
   "id": "9602e0fd-a2a8-40cd-b71f-fb4286b5548a",
   "metadata": {},
   "outputs": [],
   "source": [
    "url = \"https://es.wikipedia.org/wiki/Sistema_solar\"\n",
    "html_text = requests.get(url)\n",
    "soup = BeautifulSoup(html_text.content, 'html.parser')"
   ]
  },
  {
   "cell_type": "code",
   "execution_count": 3,
   "id": "25eb50a6-2b57-4a39-9e30-e5055871ab4a",
   "metadata": {},
   "outputs": [],
   "source": [
    "table = soup.find_all('table')[3]\n",
    "tbody = table.find_all('td')"
   ]
  },
  {
   "cell_type": "code",
   "execution_count": 4,
   "id": "8ef7b6b6-5f51-48c6-89ac-847a0ccaedee",
   "metadata": {},
   "outputs": [
    {
     "name": "stdout",
     "output_type": "stream",
     "text": [
      "0\n",
      "7\n"
     ]
    }
   ],
   "source": [
    "data = []\n",
    "headers = [th.text.strip() for th in table.find('tr').find_all('th')]\n",
    "planeta_enano = headers.index('Planeta enano')\n",
    "satelitese_naturales = headers.index('Satélites naturales')\n",
    "print(planeta_enano)\n",
    "print(satelitese_naturales)"
   ]
  },
  {
   "cell_type": "code",
   "execution_count": 5,
   "id": "a74cd8a8-77cb-405c-8fa5-87014eaff304",
   "metadata": {},
   "outputs": [
    {
     "name": "stdout",
     "output_type": "stream",
     "text": [
      "[['Ceres\\n', '0\\n'], ['Plutón\\n', '5\\n'], ['Haumea\\n', '2\\n'], ['Makemake\\n', '1\\n'], ['Eris\\n', '1\\n']]\n"
     ]
    }
   ],
   "source": [
    "for filas in table.find_all('tr')[1:]:\n",
    "    columnas = filas.find_all('td')\n",
    "    planeta_enano_body = columnas[0].get_text()\n",
    "    satelites_naturales_body = columnas[7].get_text()\n",
    "    data.append([planeta_enano_body, satelites_naturales_body])\n",
    "print(data)"
   ]
  },
  {
   "cell_type": "code",
   "execution_count": null,
   "id": "88a7f1a5-ff38-4536-a8e1-7ff2275f88f7",
   "metadata": {},
   "outputs": [],
   "source": []
  }
 ],
 "metadata": {
  "kernelspec": {
   "display_name": "Python 3 (ipykernel)",
   "language": "python",
   "name": "python3"
  },
  "language_info": {
   "codemirror_mode": {
    "name": "ipython",
    "version": 3
   },
   "file_extension": ".py",
   "mimetype": "text/x-python",
   "name": "python",
   "nbconvert_exporter": "python",
   "pygments_lexer": "ipython3",
   "version": "3.12.1"
  }
 },
 "nbformat": 4,
 "nbformat_minor": 5
}
